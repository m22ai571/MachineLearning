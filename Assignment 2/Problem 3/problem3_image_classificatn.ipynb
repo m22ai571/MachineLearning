{
  "cells": [
    {
      "cell_type": "code",
      "execution_count": 52,
      "metadata": {
        "colab": {
          "base_uri": "https://localhost:8080/"
        },
        "id": "8fIl1OcJ6tT2",
        "outputId": "b65f2364-9272-44b7-edfe-9ce2b89c9b18"
      },
      "outputs": [
        {
          "output_type": "stream",
          "name": "stdout",
          "text": [
            "Drive already mounted at /content/drive; to attempt to forcibly remount, call drive.mount(\"/content/drive\", force_remount=True).\n"
          ]
        }
      ],
      "source": [
        "import numpy as np\n",
        "import pandas as pd\n",
        "import cv2\n",
        "import os\n",
        "import matplotlib.pyplot as plt\n",
        "from sklearn.model_selection import train_test_split\n",
        "from keras.utils import to_categorical\n",
        "from keras.models import Sequential\n",
        "from keras.layers import Conv2D, MaxPooling2D, Flatten, Dense, Dropout\n",
        "\n",
        "\n",
        "from google.colab import drive\n",
        "drive.mount('/content/drive')"
      ]
    },
    {
      "cell_type": "code",
      "execution_count": 53,
      "metadata": {
        "colab": {
          "base_uri": "https://localhost:8080/"
        },
        "id": "PBiME71pNQ-U",
        "outputId": "04b8974b-ae5f-44fa-ede3-38bc6a937a09"
      },
      "outputs": [
        {
          "output_type": "stream",
          "name": "stdout",
          "text": [
            "Epoch 1/30\n",
            "25/25 [==============================] - 25s 954ms/step - loss: 223.0361 - accuracy: 0.3413 - val_loss: 0.6203 - val_accuracy: 0.7950\n",
            "Epoch 2/30\n",
            "25/25 [==============================] - 26s 1s/step - loss: 0.8494 - accuracy: 0.8087 - val_loss: 0.2600 - val_accuracy: 0.9000\n",
            "Epoch 3/30\n",
            "25/25 [==============================] - 25s 1s/step - loss: 0.7045 - accuracy: 0.8687 - val_loss: 0.7697 - val_accuracy: 0.7950\n",
            "Epoch 4/30\n",
            "25/25 [==============================] - 24s 949ms/step - loss: 0.6109 - accuracy: 0.8637 - val_loss: 0.2235 - val_accuracy: 0.9200\n",
            "Epoch 5/30\n",
            "25/25 [==============================] - 25s 993ms/step - loss: 0.4313 - accuracy: 0.9187 - val_loss: 0.5222 - val_accuracy: 0.8550\n",
            "Epoch 6/30\n",
            "25/25 [==============================] - 22s 891ms/step - loss: 0.2881 - accuracy: 0.9413 - val_loss: 0.1258 - val_accuracy: 0.9500\n",
            "Epoch 7/30\n",
            "25/25 [==============================] - 27s 1s/step - loss: 0.1968 - accuracy: 0.9613 - val_loss: 0.0712 - val_accuracy: 0.9550\n",
            "Epoch 8/30\n",
            "25/25 [==============================] - 22s 897ms/step - loss: 0.1072 - accuracy: 0.9725 - val_loss: 0.0782 - val_accuracy: 0.9650\n",
            "Epoch 9/30\n",
            "25/25 [==============================] - 25s 975ms/step - loss: 0.0389 - accuracy: 0.9850 - val_loss: 0.2295 - val_accuracy: 0.9550\n",
            "Epoch 10/30\n",
            "25/25 [==============================] - 24s 962ms/step - loss: 0.0543 - accuracy: 0.9875 - val_loss: 0.0990 - val_accuracy: 0.9650\n",
            "Epoch 11/30\n",
            "25/25 [==============================] - 23s 903ms/step - loss: 0.0256 - accuracy: 0.9900 - val_loss: 0.1251 - val_accuracy: 0.9750\n",
            "Epoch 12/30\n",
            "25/25 [==============================] - 25s 1s/step - loss: 0.0798 - accuracy: 0.9862 - val_loss: 0.1575 - val_accuracy: 0.9800\n",
            "Epoch 13/30\n",
            "25/25 [==============================] - 22s 902ms/step - loss: 0.0113 - accuracy: 0.9962 - val_loss: 0.1917 - val_accuracy: 0.9800\n",
            "Epoch 14/30\n",
            "25/25 [==============================] - 26s 1s/step - loss: 0.0155 - accuracy: 0.9950 - val_loss: 0.1437 - val_accuracy: 0.9750\n",
            "Epoch 15/30\n",
            "25/25 [==============================] - 23s 947ms/step - loss: 0.0236 - accuracy: 0.9950 - val_loss: 0.2405 - val_accuracy: 0.9800\n",
            "Epoch 16/30\n",
            "25/25 [==============================] - 26s 1s/step - loss: 0.0098 - accuracy: 0.9962 - val_loss: 0.2414 - val_accuracy: 0.9850\n",
            "Epoch 17/30\n",
            "25/25 [==============================] - 24s 955ms/step - loss: 0.0185 - accuracy: 0.9950 - val_loss: 0.2484 - val_accuracy: 0.9750\n",
            "Epoch 18/30\n",
            "25/25 [==============================] - 23s 922ms/step - loss: 0.0108 - accuracy: 0.9962 - val_loss: 0.1301 - val_accuracy: 0.9800\n",
            "Epoch 19/30\n",
            "25/25 [==============================] - 24s 985ms/step - loss: 0.0037 - accuracy: 0.9975 - val_loss: 0.1441 - val_accuracy: 0.9850\n",
            "Epoch 20/30\n",
            "25/25 [==============================] - 22s 900ms/step - loss: 0.0313 - accuracy: 0.9925 - val_loss: 0.3747 - val_accuracy: 0.9800\n",
            "Epoch 21/30\n",
            "25/25 [==============================] - 26s 1s/step - loss: 0.0327 - accuracy: 0.9925 - val_loss: 0.3038 - val_accuracy: 0.9750\n",
            "Epoch 22/30\n",
            "25/25 [==============================] - 22s 895ms/step - loss: 0.0260 - accuracy: 0.9937 - val_loss: 0.0955 - val_accuracy: 0.9800\n",
            "Epoch 23/30\n",
            "25/25 [==============================] - 25s 972ms/step - loss: 0.0882 - accuracy: 0.9862 - val_loss: 0.3338 - val_accuracy: 0.9550\n",
            "Epoch 24/30\n",
            "25/25 [==============================] - 24s 950ms/step - loss: 0.0772 - accuracy: 0.9862 - val_loss: 0.0805 - val_accuracy: 0.9850\n",
            "Epoch 25/30\n",
            "25/25 [==============================] - 26s 1s/step - loss: 0.0245 - accuracy: 0.9912 - val_loss: 0.1079 - val_accuracy: 0.9750\n",
            "Epoch 26/30\n",
            "25/25 [==============================] - 24s 964ms/step - loss: 0.0055 - accuracy: 0.9975 - val_loss: 0.2094 - val_accuracy: 0.9650\n",
            "Epoch 27/30\n",
            "25/25 [==============================] - 23s 903ms/step - loss: 0.0321 - accuracy: 0.9950 - val_loss: 0.1077 - val_accuracy: 0.9750\n",
            "Epoch 28/30\n",
            "25/25 [==============================] - 26s 1s/step - loss: 0.0271 - accuracy: 0.9937 - val_loss: 0.1401 - val_accuracy: 0.9800\n",
            "Epoch 29/30\n",
            "25/25 [==============================] - 24s 949ms/step - loss: 0.0038 - accuracy: 0.9987 - val_loss: 0.0650 - val_accuracy: 0.9850\n",
            "Epoch 30/30\n",
            "25/25 [==============================] - 24s 939ms/step - loss: 0.0027 - accuracy: 0.9987 - val_loss: 0.0550 - val_accuracy: 0.9850\n"
          ]
        }
      ],
      "source": [
        "# Define constants\n",
        "IMG_SIZE = 128\n",
        "NUM_CLASSES = 5\n",
        "\n",
        "# Define class mapping\n",
        "class_map = {\n",
        "    'line': 0,\n",
        "    'dot_line': 1,\n",
        "    'hbar_categorical': 2,\n",
        "    'vbar_categorical': 3,\n",
        "    'pie': 4\n",
        "}\n",
        "\n",
        "# Load data\n",
        "data_dir = '/content/drive/My Drive/Colab Notebooks/Sem 2/Machine Learning/Assignment 2/Problem 3/charts/'\n",
        "labels = pd.read_csv(os.path.join(data_dir, 'train_val.csv'))\n",
        "labels['type'] = labels['type'].map(class_map)\n",
        "X = []\n",
        "y = []\n",
        "for i, row in labels.iterrows():\n",
        "    img = cv2.imread(os.path.join(data_dir, 'train_val', str(row['image_index'] )+\".png\"))\n",
        "    img = cv2.cvtColor(img, cv2.COLOR_BGR2RGB)\n",
        "    img = cv2.resize(img, (IMG_SIZE, IMG_SIZE))\n",
        "    X.append(img)\n",
        "    y.append(row['type'])\n",
        "X = np.array(X)\n",
        "y = to_categorical(y, NUM_CLASSES)\n",
        "\n",
        "# Split data into training and validation sets\n",
        "X_train, X_val, y_train, y_val = train_test_split(X, y, test_size=0.2, random_state=42)\n",
        "\n",
        "class ChartClassifier:\n",
        "    def __init__(self, img_size=128, num_classes=5):\n",
        "        self.img_size = img_size\n",
        "        self.num_classes = num_classes\n",
        "        self.model = None\n",
        "        self.history = None\n",
        "        \n",
        "    def build_model(self):\n",
        "        self.model = Sequential()\n",
        "        self.model.add(Conv2D(32, (3, 3), activation='relu', input_shape=(self.img_size, self.img_size, 3)))\n",
        "        self.model.add(MaxPooling2D((2, 2)))\n",
        "        self.model.add(Conv2D(64, (3, 3), activation='relu'))\n",
        "        self.model.add(MaxPooling2D((2, 2)))\n",
        "        self.model.add(Flatten())\n",
        "        self.model.add(Dense(128, activation='relu'))\n",
        "        self.model.add(Dropout(0.5))\n",
        "        self.model.add(Dense(self.num_classes, activation='softmax'))\n",
        "        \n",
        "    def compile_model(self):\n",
        "        self.model.compile(optimizer='adam', loss='categorical_crossentropy', metrics=['accuracy'])\n",
        "      \n",
        "        \n",
        "    def train(self, X_train, y_train, X_val, y_val, batch_size, num_epochs):\n",
        "        self.history = self.model.fit(X_train, y_train, batch_size=batch_size, epochs=num_epochs, validation_data=(X_val, y_val))\n",
        "        \n",
        "        \n",
        "    def evaluate(self, X_test, y_test):\n",
        "        return self.model.evaluate(X_test, y_test)\n",
        "\n",
        "    def get_history(self):\n",
        "        return self.history\n",
        "\n",
        "\n",
        "# Create an instance of the ChartClassifier class and build the model\n",
        "model = ChartClassifier()\n",
        "model.build_model()\n",
        "model.compile_model()\n",
        "\n",
        "# Train the model\n",
        "model.train(X_train, y_train, X_val, y_val, batch_size=32, num_epochs=30)\n"
      ]
    },
    {
      "cell_type": "code",
      "source": [
        "# Plot the loss\n",
        "plt.plot(model.get_history().history['loss'], label='training loss')\n",
        "plt.plot(model.get_history().history['val_loss'], label='validation loss')\n",
        "plt.xlabel('Epoch')\n",
        "plt.ylabel('Loss')\n",
        "plt.legend()\n",
        "plt.show()"
      ],
      "metadata": {
        "colab": {
          "base_uri": "https://localhost:8080/",
          "height": 449
        },
        "id": "WVb5MCfpkTE4",
        "outputId": "5d72577b-cd7d-4b00-c80d-22aa5dbea8e3"
      },
      "execution_count": 54,
      "outputs": [
        {
          "output_type": "display_data",
          "data": {
            "text/plain": [
              "<Figure size 640x480 with 1 Axes>"
            ],
            "image/png": "[encoded data removed]"
          },
          "metadata": {}
        }
      ]
    },
    {
      "cell_type": "code",
      "execution_count": 55,
      "metadata": {
        "colab": {
          "base_uri": "https://localhost:8080/"
        },
        "id": "KguMtn7USIYd",
        "outputId": "e024068c-3f4f-45c5-f585-487b176c3ceb"
      },
      "outputs": [
        {
          "output_type": "stream",
          "name": "stdout",
          "text": [
            "2/2 [==============================] - 0s 104ms/step - loss: 0.0868 - accuracy: 0.9783\n",
            "Test loss: 0.0868\n",
            "Test accuracy: 0.9783\n"
          ]
        }
      ],
      "source": [
        "# Evaluate model on test data\n",
        "test_labels = pd.read_csv(os.path.join(data_dir, 'test.csv'))\n",
        "test_labels['type'] = test_labels['type'].map(class_map)\n",
        "X_test = []\n",
        "y_test = []\n",
        "for i, row in test_labels.iterrows():\n",
        "    img = cv2.imread(os.path.join(data_dir, 'test', str(row['image_index'] )+\".png\"))\n",
        "    img = cv2.cvtColor(img, cv2.COLOR_BGR2RGB)\n",
        "    img = cv2.resize(img, (IMG_SIZE, IMG_SIZE))\n",
        "    X_test.append(img)\n",
        "    y_test.append(row['type'])\n",
        "X_test = np.array(X_test)\n",
        "y_test = to_categorical(y_test, NUM_CLASSES)\n",
        "\n",
        "loss, acc = model.evaluate(X_test, y_test)\n",
        "print(f'Test loss: {loss:.4f}')\n",
        "print(f'Test accuracy: {acc:.4f}')"
      ]
    }
  ],
  "metadata": {
    "colab": {
      "provenance": [],
      "toc_visible": true
    },
    "kernelspec": {
      "display_name": "Python 3",
      "name": "python3"
    },
    "language_info": {
      "name": "python"
    }
  },
  "nbformat": 4,
  "nbformat_minor": 0
}