{
  "nbformat": 4,
  "nbformat_minor": 0,
  "metadata": {
    "colab": {
      "provenance": [],
      "toc_visible": true
    },
    "kernelspec": {
      "name": "python3",
      "display_name": "Python 3"
    },
    "language_info": {
      "name": "python"
    }
  },
  "cells": [
    {
      "cell_type": "code",
      "execution_count": 7,
      "metadata": {
        "id": "8fIl1OcJ6tT2",
        "colab": {
          "base_uri": "https://localhost:8080/"
        },
        "outputId": "81850e78-7e1d-4645-93d8-ae376e15850c"
      },
      "outputs": [
        {
          "output_type": "stream",
          "name": "stdout",
          "text": [
            "Drive already mounted at /content/drive; to attempt to forcibly remount, call drive.mount(\"/content/drive\", force_remount=True).\n"
          ]
        }
      ],
      "source": [
        "import numpy as np\n",
        "import pandas as pd\n",
        "import cv2\n",
        "import os\n",
        "from sklearn.model_selection import train_test_split\n",
        "from keras.utils import to_categorical\n",
        "from keras.models import Sequential\n",
        "from keras.layers import Conv2D, MaxPooling2D, Flatten, Dense, Dropout\n",
        "\n",
        "from google.colab import drive\n",
        "drive.mount('/content/drive')"
      ]
    },
    {
      "cell_type": "code",
      "source": [
        "# Define constants\n",
        "IMG_SIZE = 128\n",
        "NUM_CLASSES = 5\n",
        "BATCH_SIZE = 32\n",
        "NUM_EPOCHS = 30\n",
        "\n",
        "# Define class mapping\n",
        "class_map = {\n",
        "    'line': 0,\n",
        "    'dot_line': 1,\n",
        "    'hbar_categorical': 2,\n",
        "    'vbar_categorical': 3,\n",
        "    'pie': 4\n",
        "}\n",
        "\n",
        "# Load data\n",
        "data_dir = '/content/drive/My Drive/Colab Notebooks/Sem 2/Machine Learning/Assignment 2/Problem 3/charts/'\n",
        "labels = pd.read_csv(os.path.join(data_dir, 'train_val.csv'))\n",
        "labels['type'] = labels['type'].map(class_map)\n",
        "X = []\n",
        "y = []\n",
        "for i, row in labels.iterrows():\n",
        "    img = cv2.imread(os.path.join(data_dir, 'train_val', str(row['image_index'] )+\".png\"))\n",
        "    img = cv2.cvtColor(img, cv2.COLOR_BGR2RGB)\n",
        "    img = cv2.resize(img, (IMG_SIZE, IMG_SIZE))\n",
        "    X.append(img)\n",
        "    y.append(row['type'])\n",
        "X = np.array(X)\n",
        "y = to_categorical(y, NUM_CLASSES)\n",
        "\n",
        "# Split data into training and validation sets\n",
        "X_train, X_val, y_train, y_val = train_test_split(X, y, test_size=0.2, random_state=42)\n",
        "\n",
        "# Define CNN architecture\n",
        "model = Sequential()\n",
        "model.add(Conv2D(32, (3, 3), activation='relu', input_shape=(IMG_SIZE, IMG_SIZE, 3)))\n",
        "model.add(MaxPooling2D((2, 2)))\n",
        "model.add(Conv2D(64, (3, 3), activation='relu'))\n",
        "model.add(MaxPooling2D((2, 2)))\n",
        "model.add(Flatten())\n",
        "model.add(Dense(128, activation='relu'))\n",
        "model.add(Dropout(0.5))\n",
        "model.add(Dense(NUM_CLASSES, activation='softmax'))\n",
        "\n",
        "# Compile model\n",
        "model.compile(optimizer='adam', loss='categorical_crossentropy', metrics=['accuracy'])\n",
        "\n",
        "# Train model\n",
        "model.fit(X_train, y_train, epochs=NUM_EPOCHS, batch_size=BATCH_SIZE, validation_data=(X_val, y_val))\n"
      ],
      "metadata": {
        "colab": {
          "base_uri": "https://localhost:8080/"
        },
        "id": "PBiME71pNQ-U",
        "outputId": "cbb87eaf-64a7-4f3e-f083-fd66ef11e63c"
      },
      "execution_count": 8,
      "outputs": [
        {
          "output_type": "stream",
          "name": "stdout",
          "text": [
            "Epoch 1/30\n",
            "25/25 [==============================] - 27s 1s/step - loss: 157.3736 - accuracy: 0.4825 - val_loss: 0.8013 - val_accuracy: 0.7300\n",
            "Epoch 2/30\n",
            "25/25 [==============================] - 26s 1s/step - loss: 0.7195 - accuracy: 0.8000 - val_loss: 0.3937 - val_accuracy: 0.9050\n",
            "Epoch 3/30\n",
            "25/25 [==============================] - 26s 980ms/step - loss: 0.3690 - accuracy: 0.9050 - val_loss: 0.1504 - val_accuracy: 0.9600\n",
            "Epoch 4/30\n",
            "25/25 [==============================] - 26s 1s/step - loss: 0.3163 - accuracy: 0.9125 - val_loss: 0.1203 - val_accuracy: 0.9650\n",
            "Epoch 5/30\n",
            "25/25 [==============================] - 25s 1s/step - loss: 0.1785 - accuracy: 0.9550 - val_loss: 0.0852 - val_accuracy: 0.9750\n",
            "Epoch 6/30\n",
            "25/25 [==============================] - 24s 965ms/step - loss: 0.0922 - accuracy: 0.9775 - val_loss: 0.0804 - val_accuracy: 0.9700\n",
            "Epoch 7/30\n",
            "25/25 [==============================] - 25s 1s/step - loss: 0.0661 - accuracy: 0.9887 - val_loss: 0.0638 - val_accuracy: 0.9800\n",
            "Epoch 8/30\n",
            "25/25 [==============================] - 30s 1s/step - loss: 0.1380 - accuracy: 0.9762 - val_loss: 0.1016 - val_accuracy: 0.9750\n",
            "Epoch 9/30\n",
            "25/25 [==============================] - 24s 962ms/step - loss: 0.5704 - accuracy: 0.9212 - val_loss: 0.1049 - val_accuracy: 0.9700\n",
            "Epoch 10/30\n",
            "25/25 [==============================] - 30s 1s/step - loss: 0.1660 - accuracy: 0.9712 - val_loss: 0.0868 - val_accuracy: 0.9700\n",
            "Epoch 11/30\n",
            "25/25 [==============================] - 25s 1s/step - loss: 0.1238 - accuracy: 0.9625 - val_loss: 0.0966 - val_accuracy: 0.9600\n",
            "Epoch 12/30\n",
            "25/25 [==============================] - 23s 925ms/step - loss: 0.0341 - accuracy: 0.9887 - val_loss: 0.1009 - val_accuracy: 0.9650\n",
            "Epoch 13/30\n",
            "25/25 [==============================] - 25s 1s/step - loss: 0.0616 - accuracy: 0.9912 - val_loss: 0.0438 - val_accuracy: 0.9800\n",
            "Epoch 14/30\n",
            "25/25 [==============================] - 26s 1s/step - loss: 0.0502 - accuracy: 0.9837 - val_loss: 0.0639 - val_accuracy: 0.9800\n",
            "Epoch 15/30\n",
            "25/25 [==============================] - 24s 974ms/step - loss: 0.0078 - accuracy: 1.0000 - val_loss: 0.1641 - val_accuracy: 0.9650\n",
            "Epoch 16/30\n",
            "25/25 [==============================] - 26s 1s/step - loss: 0.0236 - accuracy: 0.9925 - val_loss: 0.0588 - val_accuracy: 0.9800\n",
            "Epoch 17/30\n",
            "25/25 [==============================] - 25s 1s/step - loss: 0.0107 - accuracy: 0.9987 - val_loss: 0.0688 - val_accuracy: 0.9750\n",
            "Epoch 18/30\n",
            "25/25 [==============================] - 26s 1s/step - loss: 0.0200 - accuracy: 0.9925 - val_loss: 0.0762 - val_accuracy: 0.9800\n",
            "Epoch 19/30\n",
            "25/25 [==============================] - 25s 1s/step - loss: 0.0282 - accuracy: 0.9950 - val_loss: 0.1900 - val_accuracy: 0.9750\n",
            "Epoch 20/30\n",
            "25/25 [==============================] - 27s 1s/step - loss: 0.0153 - accuracy: 0.9937 - val_loss: 0.0344 - val_accuracy: 0.9900\n",
            "Epoch 21/30\n",
            "25/25 [==============================] - 23s 927ms/step - loss: 0.0688 - accuracy: 0.9850 - val_loss: 0.1056 - val_accuracy: 0.9650\n",
            "Epoch 22/30\n",
            "25/25 [==============================] - 26s 1s/step - loss: 0.0870 - accuracy: 0.9825 - val_loss: 0.0423 - val_accuracy: 0.9900\n",
            "Epoch 23/30\n",
            "25/25 [==============================] - 26s 1s/step - loss: 0.0207 - accuracy: 0.9937 - val_loss: 0.0456 - val_accuracy: 0.9850\n",
            "Epoch 24/30\n",
            "25/25 [==============================] - 24s 955ms/step - loss: 0.1413 - accuracy: 0.9737 - val_loss: 0.1524 - val_accuracy: 0.9550\n",
            "Epoch 25/30\n",
            "25/25 [==============================] - 24s 963ms/step - loss: 0.0974 - accuracy: 0.9825 - val_loss: 0.0820 - val_accuracy: 0.9750\n",
            "Epoch 26/30\n",
            "25/25 [==============================] - 27s 1s/step - loss: 0.0199 - accuracy: 0.9925 - val_loss: 0.0594 - val_accuracy: 0.9850\n",
            "Epoch 27/30\n",
            "25/25 [==============================] - 23s 923ms/step - loss: 0.0207 - accuracy: 0.9950 - val_loss: 0.1473 - val_accuracy: 0.9850\n",
            "Epoch 28/30\n",
            "25/25 [==============================] - 25s 1s/step - loss: 0.0798 - accuracy: 0.9875 - val_loss: 0.2639 - val_accuracy: 0.9650\n",
            "Epoch 29/30\n",
            "25/25 [==============================] - 24s 976ms/step - loss: 0.0853 - accuracy: 0.9875 - val_loss: 0.0481 - val_accuracy: 0.9900\n",
            "Epoch 30/30\n",
            "25/25 [==============================] - 25s 998ms/step - loss: 0.0239 - accuracy: 0.9950 - val_loss: 0.0731 - val_accuracy: 0.9800\n"
          ]
        },
        {
          "output_type": "execute_result",
          "data": {
            "text/plain": [
              "<keras.callbacks.History at 0x7fad4d2e5b50>"
            ]
          },
          "metadata": {},
          "execution_count": 8
        }
      ]
    },
    {
      "cell_type": "code",
      "source": [
        "# Evaluate model on test data\n",
        "test_labels = pd.read_csv(os.path.join(data_dir, 'test.csv'))\n",
        "test_labels['type'] = test_labels['type'].map(class_map)\n",
        "X_test = []\n",
        "y_test = []\n",
        "for i, row in test_labels.iterrows():\n",
        "    img = cv2.imread(os.path.join(data_dir, 'test', str(row['image_index'] )+\".png\"))\n",
        "    img = cv2.cvtColor(img, cv2.COLOR_BGR2RGB)\n",
        "    img = cv2.resize(img, (IMG_SIZE, IMG_SIZE))\n",
        "    X_test.append(img)\n",
        "    y_test.append(row['type'])\n",
        "X_test = np.array(X_test)\n",
        "y_test = to_categorical(y_test, NUM_CLASSES)\n",
        "loss, acc = model.evaluate(X_test, y_test)\n",
        "print(f'Test loss: {loss:.4f}')\n",
        "print(f'Test accuracy: {acc:.4f}')"
      ],
      "metadata": {
        "id": "KguMtn7USIYd",
        "colab": {
          "base_uri": "https://localhost:8080/"
        },
        "outputId": "bdd5a27b-1d2a-4b92-9f0d-98823f5c8931"
      },
      "execution_count": 9,
      "outputs": [
        {
          "output_type": "stream",
          "name": "stdout",
          "text": [
            "2/2 [==============================] - 0s 105ms/step - loss: 4.0101e-04 - accuracy: 1.0000\n",
            "Test loss: 0.0004\n",
            "Test accuracy: 1.0000\n"
          ]
        }
      ]
    }
  ]
}